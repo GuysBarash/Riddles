{
  "nbformat": 4,
  "nbformat_minor": 0,
  "metadata": {
    "colab": {
      "name": "iranian_agent.ipynb",
      "provenance": [],
      "authorship_tag": "ABX9TyMxpMyiNiyWgwzppcd6m43I",
      "include_colab_link": true
    },
    "kernelspec": {
      "name": "python3",
      "display_name": "Python 3"
    }
  },
  "cells": [
    {
      "cell_type": "markdown",
      "metadata": {
        "id": "view-in-github",
        "colab_type": "text"
      },
      "source": [
        "<a href=\"https://colab.research.google.com/github/GuysBarash/Riddles/blob/master/iranian_operative/iranian_operative.ipynb\" target=\"_parent\"><img src=\"https://colab.research.google.com/assets/colab-badge.svg\" alt=\"Open In Colab\"/></a>"
      ]
    },
    {
      "cell_type": "code",
      "metadata": {
        "id": "EYlWAd9HOjkW",
        "colab_type": "code",
        "colab": {}
      },
      "source": [
        "import numpy as np"
      ],
      "execution_count": 1,
      "outputs": []
    },
    {
      "cell_type": "code",
      "metadata": {
        "id": "jJ3b8vXZOmaX",
        "colab_type": "code",
        "colab": {}
      },
      "source": [
        "possible_lockers = range(13, 1300 + 1)"
      ],
      "execution_count": 2,
      "outputs": []
    },
    {
      "cell_type": "code",
      "metadata": {
        "id": "XzKZ_pm7OoL7",
        "colab_type": "code",
        "colab": {}
      },
      "source": [
        "def q1(agent_say_yes=True):\n",
        "    # Iranian, is the number smaller than 500?\n",
        "    # syrian, [lie]\n",
        "\n",
        "    you_know = list()\n",
        "    iran_know = list()\n",
        "\n",
        "    for t in possible_lockers:\n",
        "        lower = t < 500\n",
        "        higer = not lower\n",
        "        agent_say_lower = agent_say_yes\n",
        "        agent_says_higher = not agent_say_lower\n",
        "        if lower and agent_say_lower:\n",
        "            iran_know.append(t)\n",
        "        elif lower and agent_says_higher:\n",
        "            you_know.append(t)\n",
        "        elif higer and agent_says_higher:\n",
        "            iran_know.append(t)\n",
        "        elif higer and agent_say_lower:\n",
        "            you_know.append(t)\n",
        "        else:\n",
        "            print(\"<< BAD SELECTION >> \")\n",
        "\n",
        "    return you_know, iran_know"
      ],
      "execution_count": 3,
      "outputs": []
    },
    {
      "cell_type": "code",
      "metadata": {
        "id": "fJC7yGyXOr93",
        "colab_type": "code",
        "colab": {}
      },
      "source": [
        "def q2(agent_say_yes=True):\n",
        "    # Iranian, is the number has than natural sqrt?\n",
        "    # syrian, [lie]\n",
        "\n",
        "    you_know = list()\n",
        "    iran_know = list()\n",
        "\n",
        "    nums_with_sqrt = [int(d ** 2) for d in range(40)]\n",
        "    for t in possible_lockers:\n",
        "        number_has_sqrt = t in nums_with_sqrt\n",
        "        number_not_has_sqrt = not number_has_sqrt\n",
        "        agent_says_num_has_sqrt = agent_say_yes\n",
        "        agent_says_num_not_has_sqrt = not agent_says_num_has_sqrt\n",
        "\n",
        "        if number_has_sqrt and agent_says_num_has_sqrt:\n",
        "            iran_know.append(t)\n",
        "        elif number_has_sqrt and agent_says_num_not_has_sqrt:\n",
        "            you_know.append(t)\n",
        "        elif number_not_has_sqrt and agent_says_num_has_sqrt:\n",
        "            you_know.append(t)\n",
        "        elif number_not_has_sqrt and agent_says_num_not_has_sqrt:\n",
        "            iran_know.append(t)\n",
        "        else:\n",
        "            print(\"<< BAD SELECTION >> \")\n",
        "\n",
        "    return you_know, iran_know"
      ],
      "execution_count": 4,
      "outputs": []
    },
    {
      "cell_type": "code",
      "metadata": {
        "id": "41fCzo8SOvnG",
        "colab_type": "code",
        "colab": {}
      },
      "source": [
        "def q3(agent_say_yes=True):\n",
        "    # Iranian, is the number has third natural root?\n",
        "    # syrian, [Truth]\n",
        "\n",
        "    you_know = list()\n",
        "    iran_know = list()\n",
        "\n",
        "    nums_with_sqrt = [int(d ** 3) for d in range(40)]\n",
        "    for t in possible_lockers:\n",
        "        number_has_sqrt = t in nums_with_sqrt\n",
        "        number_not_has_sqrt = not number_has_sqrt\n",
        "        agent_says_num_has_sqrt = agent_say_yes\n",
        "        agent_says_num_not_has_sqrt = not agent_says_num_has_sqrt\n",
        "\n",
        "        if number_has_sqrt and agent_says_num_has_sqrt:\n",
        "            iran_know.append(t)\n",
        "            you_know.append(t)\n",
        "        elif number_has_sqrt and agent_says_num_not_has_sqrt:\n",
        "            pass\n",
        "        elif number_not_has_sqrt and agent_says_num_has_sqrt:\n",
        "            pass\n",
        "        elif number_not_has_sqrt and agent_says_num_not_has_sqrt:\n",
        "            iran_know.append(t)\n",
        "            you_know.append(t)\n",
        "        else:\n",
        "            print(\"<< BAD SELECTION >> \")\n",
        "\n",
        "    return you_know, iran_know"
      ],
      "execution_count": 5,
      "outputs": []
    },
    {
      "cell_type": "code",
      "metadata": {
        "id": "4PKpLPc4OznQ",
        "colab_type": "code",
        "colab": {}
      },
      "source": [
        "def second_digit_is_1(n):\n",
        "    s = str(n)\n",
        "    if len(s) > 1:\n",
        "        second_digit = int(s[-2])\n",
        "        return second_digit == 1\n",
        "    else:\n",
        "        return False"
      ],
      "execution_count": 6,
      "outputs": []
    },
    {
      "cell_type": "code",
      "metadata": {
        "id": "XM0kVKvqO0gQ",
        "colab_type": "code",
        "colab": {}
      },
      "source": [
        "possible_combinations = [\n",
        "    [True, True, True],\n",
        "    [True, True, False],\n",
        "    [True, False, True],\n",
        "    [True, False, False],\n",
        "    [False, True, True],\n",
        "    [False, True, False],\n",
        "    [False, False, True],\n",
        "    [False, False, False],\n",
        "]"
      ],
      "execution_count": 7,
      "outputs": []
    },
    {
      "cell_type": "code",
      "metadata": {
        "id": "ckD5lf2vO3Ms",
        "colab_type": "code",
        "colab": {}
      },
      "source": [
        "def translate_combinations(l):\n",
        "    ret = list()\n",
        "    for lt in l:\n",
        "        if lt:\n",
        "            ret.append(f\"{'Yes':<4}\")\n",
        "        else:\n",
        "            ret.append(f\"{'No':<4}\")\n",
        "    return ret"
      ],
      "execution_count": 8,
      "outputs": []
    },
    {
      "cell_type": "code",
      "metadata": {
        "id": "ubMWf6IxOe_4",
        "colab_type": "code",
        "colab": {
          "base_uri": "https://localhost:8080/",
          "height": 194
        },
        "outputId": "cf4f4849-4205-4d94-8366-01d8518dbcd0"
      },
      "source": [
        "for combination in possible_combinations:\n",
        "    combination_translated = []\n",
        "    you1, iran1 = q1(combination[0])\n",
        "    you2, iran2 = q2(combination[1])\n",
        "    you3, iran3 = q3(combination[2])\n",
        "\n",
        "    you_options = [t for t in you1 if (t in you2) and (t in you3)]\n",
        "    iran_options = [t for t in iran1 if (t in iran2) and (t in iran3)]\n",
        "\n",
        "    iran_options_with_second_digit_1 = [second_digit_is_1(t) for t in iran_options]\n",
        "    sum_iran_options_with_second_digit_1 = sum(iran_options_with_second_digit_1)\n",
        "    iran_options_without_second_digit_1 = [not t for t in iran_options_with_second_digit_1]\n",
        "    sum_iran_options_without_second_digit_1 = sum(iran_options_without_second_digit_1)\n",
        "\n",
        "    msg = ''\n",
        "    msg += f\"Option: {str(translate_combinations(combination)) :<25}\\t\\t Iran options:{len(iran_options):>4}\\t\\t\"\n",
        "    msg += f\"Options with 2 a second digit: {sum_iran_options_with_second_digit_1:>4}\\t\"\n",
        "    msg += f\"Options with other second digit: {sum_iran_options_without_second_digit_1:>4}\\t\"\n",
        "\n",
        "    last_quesion_help_us = sum_iran_options_with_second_digit_1 == 1 and sum_iran_options_without_second_digit_1 == 1\n",
        "\n",
        "    possible_solution = False\n",
        "    if last_quesion_help_us:\n",
        "        msg += '\\t\\t<<<<< Possible solution'\n",
        "        possible_solution = True\n",
        "    else:\n",
        "        msg += '\\t\\tlast question is pointless'\n",
        "\n",
        "    print(msg)\n",
        "    if possible_solution:\n",
        "        msg = f\"Your legal options are: {you_options}\"\n",
        "        if len(you_options) == 1:\n",
        "            msg += f', And that is the right solution! {you_options[0]}'\n",
        "        print(msg)\n",
        "        print()\n"
      ],
      "execution_count": 9,
      "outputs": [
        {
          "output_type": "stream",
          "text": [
            "Option: ['Yes ', 'Yes ', 'Yes '] \t\t Iran options:   1\t\tOptions with 2 a second digit:    0\tOptions with other second digit:    1\t\t\tlast question is pointless\n",
            "Option: ['Yes ', 'Yes ', 'No  '] \t\t Iran options:  18\t\tOptions with 2 a second digit:    1\tOptions with other second digit:   17\t\t\tlast question is pointless\n",
            "Option: ['Yes ', 'No  ', 'Yes '] \t\t Iran options:   4\t\tOptions with 2 a second digit:    1\tOptions with other second digit:    3\t\t\tlast question is pointless\n",
            "Option: ['Yes ', 'No  ', 'No  '] \t\t Iran options: 464\t\tOptions with 2 a second digit:   45\tOptions with other second digit:  419\t\t\tlast question is pointless\n",
            "Option: ['No  ', 'Yes ', 'Yes '] \t\t Iran options:   1\t\tOptions with 2 a second digit:    0\tOptions with other second digit:    1\t\t\tlast question is pointless\n",
            "Option: ['No  ', 'Yes ', 'No  '] \t\t Iran options:  13\t\tOptions with 2 a second digit:    0\tOptions with other second digit:   13\t\t\tlast question is pointless\n",
            "Option: ['No  ', 'No  ', 'Yes '] \t\t Iran options:   2\t\tOptions with 2 a second digit:    1\tOptions with other second digit:    1\t\t\t<<<<< Possible solution\n",
            "Your legal options are: [64], And that is the right solution! 64\n",
            "\n",
            "Option: ['No  ', 'No  ', 'No  '] \t\t Iran options: 785\t\tOptions with 2 a second digit:   79\tOptions with other second digit:  706\t\t\tlast question is pointless\n"
          ],
          "name": "stdout"
        }
      ]
    }
  ]
}