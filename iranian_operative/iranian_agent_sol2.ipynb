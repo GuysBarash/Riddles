{
  "nbformat": 4,
  "nbformat_minor": 0,
  "metadata": {
    "colab": {
      "name": "iranian_agent_sol2.ipynb",
      "provenance": [],
      "authorship_tag": "ABX9TyP3JyCtGVloexApxYnGrOKB",
      "include_colab_link": true
    },
    "kernelspec": {
      "name": "python3",
      "display_name": "Python 3"
    }
  },
  "cells": [
    {
      "cell_type": "markdown",
      "metadata": {
        "id": "view-in-github",
        "colab_type": "text"
      },
      "source": [
        "<a href=\"https://colab.research.google.com/github/GuysBarash/Riddles/blob/master/iranian_operative/iranian_agent_sol2.ipynb\" target=\"_parent\"><img src=\"https://colab.research.google.com/assets/colab-badge.svg\" alt=\"Open In Colab\"/></a>"
      ]
    },
    {
      "cell_type": "markdown",
      "metadata": {
        "id": "Ox9dtEOy-vtV",
        "colab_type": "text"
      },
      "source": [
        "Solution code: Uriah Shaul Mendel"
      ]
    },
    {
      "cell_type": "code",
      "metadata": {
        "id": "wKWlTxb0-Bei",
        "colab_type": "code",
        "colab": {}
      },
      "source": [
        "import math"
      ],
      "execution_count": 8,
      "outputs": []
    },
    {
      "cell_type": "code",
      "metadata": {
        "id": "U5GnB_DX-Kaw",
        "colab_type": "code",
        "colab": {}
      },
      "source": [
        "def question_1(num):\n",
        "    return num < 500"
      ],
      "execution_count": 9,
      "outputs": []
    },
    {
      "cell_type": "code",
      "metadata": {
        "id": "cVEyFXtA-Lfx",
        "colab_type": "code",
        "colab": {}
      },
      "source": [
        "def question_2(num):\n",
        "    return math.sqrt(num) == int(math.sqrt(num))"
      ],
      "execution_count": 10,
      "outputs": []
    },
    {
      "cell_type": "code",
      "metadata": {
        "id": "PsszZKmO-MBb",
        "colab_type": "code",
        "colab": {}
      },
      "source": [
        "def question_3(num):\n",
        "    num = abs(num)\n",
        "    return int(round(num ** (1. / 3))) ** 3 == num"
      ],
      "execution_count": 11,
      "outputs": []
    },
    {
      "cell_type": "code",
      "metadata": {
        "id": "H6EbjfLU-L-o",
        "colab_type": "code",
        "colab": {}
      },
      "source": [
        "nums = {\n",
        "    (True, True, True): set(),\n",
        "    (True, True, False): set(),\n",
        "    (True, False, True): set(),\n",
        "    (True, False, False): set(),\n",
        "    (False, True, True): set(),\n",
        "    (False, True, False): set(),\n",
        "    (False, False, True): set(),\n",
        "    (False, False, False): set()\n",
        "}"
      ],
      "execution_count": 12,
      "outputs": []
    },
    {
      "cell_type": "code",
      "metadata": {
        "id": "MhAA2VX_-L7l",
        "colab_type": "code",
        "colab": {}
      },
      "source": [
        "for i in range(13, 1301):\n",
        "    nums[(question_1(i), question_2(i), question_3(i))].add(i)"
      ],
      "execution_count": 13,
      "outputs": []
    },
    {
      "cell_type": "code",
      "metadata": {
        "id": "TSM37M-W-pWG",
        "colab_type": "code",
        "colab": {
          "base_uri": "https://localhost:8080/",
          "height": 70
        },
        "outputId": "9d4a466b-9690-4340-a113-230bcd1441b0"
      },
      "source": [
        "for key in nums:\n",
        "    s = nums[key]\n",
        "    if len(s) == 2:\n",
        "        for item in s:\n",
        "            if int(item / 10) % 10 == 1:\n",
        "                print(\"YAY!\")\n",
        "                print(\"Result is:\")\n",
        "                print(nums[(not key[0], not key[1], key[2])])"
      ],
      "execution_count": 14,
      "outputs": [
        {
          "output_type": "stream",
          "text": [
            "YAY!\n",
            "Result is:\n",
            "{64}\n"
          ],
          "name": "stdout"
        }
      ]
    }
  ]
}