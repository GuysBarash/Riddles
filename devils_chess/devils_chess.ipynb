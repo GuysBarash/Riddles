{
  "nbformat": 4,
  "nbformat_minor": 0,
  "metadata": {
    "colab": {
      "name": "devils chess.ipynb",
      "provenance": []
    },
    "kernelspec": {
      "name": "python3",
      "display_name": "Python 3"
    }
  },
  "cells": [
    {
      "cell_type": "markdown",
      "metadata": {
        "id": "0RBGfFtn8GVV"
      },
      "source": [
        "Generic imports"
      ]
    },
    {
      "cell_type": "code",
      "metadata": {
        "id": "SnRqUcLrspV8"
      },
      "source": [
        "import numpy as np\n",
        "import matplotlib.pyplot as plt"
      ],
      "execution_count": null,
      "outputs": []
    },
    {
      "cell_type": "markdown",
      "metadata": {
        "id": "0ieQL0tH8Pcz"
      },
      "source": [
        "The board we're using is 8x8 with 64 squares. But this solution works for every board"
      ]
    },
    {
      "cell_type": "code",
      "metadata": {
        "id": "jMgAMJ6zssjO"
      },
      "source": [
        "BOARD = 8\n",
        "SQUARES = BOARD ** 2"
      ],
      "execution_count": null,
      "outputs": []
    },
    {
      "cell_type": "markdown",
      "metadata": {
        "id": "RTwICWQr8fVJ"
      },
      "source": [
        "We'll look at the board as a long 1-dimentional vector with 64 items instead of a 8x8 2D array.\n",
        "\n",
        "So we need some help functions:\n",
        "\n",
        "\n",
        "*   board2vec - converts NxN board to an N^2 vector\n",
        "*   vec2board - converts N^2 vector to an NxN board\n",
        "*   coin2pos - Converts from a position in the 1D vec [0..(N^2-1)] to a position on the board [(0..[N-1]) , (0..[N-1])]\n",
        "*   showboard - plots the current board\n"
      ]
    },
    {
      "cell_type": "code",
      "metadata": {
        "id": "Nf3YiiXAuQYg"
      },
      "source": [
        "def board2vec(board):\n",
        "  return board.reshape([BOARD ** 2])\n",
        "\n",
        "def vec2board(vec):\n",
        "  return vec.reshape([BOARD,BOARD])\n",
        "\n",
        "def showboard(board):\n",
        "  _ = plt.imshow(board,cmap='Greys')\n",
        "  plt.gca().invert_yaxis()\n",
        "  plt.show()\n",
        "\n",
        "def coin2pos(coin_id):\n",
        "  xcoin = coin_id % 8\n",
        "  ycoin = coin_id // 8\n",
        "  return xcoin, ycoin"
      ],
      "execution_count": null,
      "outputs": []
    },
    {
      "cell_type": "markdown",
      "metadata": {
        "id": "LOtVr6aI9Uj2"
      },
      "source": [
        "Generate a random board. This board is our starting position."
      ]
    },
    {
      "cell_type": "code",
      "metadata": {
        "id": "tbtU_yZ9vf9u",
        "outputId": "1168fa88-3567-4d8b-f456-bf5f8e206260",
        "colab": {
          "base_uri": "https://localhost:8080/",
          "height": 264
        }
      },
      "source": [
        "board = np.random.randint(0, 2, size=[BOARD,BOARD])\n",
        "showboard(board)"
      ],
      "execution_count": null,
      "outputs": [
        {
          "output_type": "display_data",
          "data": {
            "image/png": "[encoded data removed]",
            "text/plain": [
              "<Figure size 432x288 with 1 Axes>"
            ]
          },
          "metadata": {
            "tags": [],
            "needs_background": "light"
          }
        }
      ]
    },
    {
      "cell_type": "markdown",
      "metadata": {
        "id": "NIuQ1Skq9fEj"
      },
      "source": [
        "The first player, Alice, can only flip one coin. Therefor we need a \"flip coin\" function. \n",
        "This function, \"flip\" takes in the original board and flips a single coin by index. "
      ]
    },
    {
      "cell_type": "code",
      "metadata": {
        "id": "vqedgJ0Evm8y"
      },
      "source": [
        "def flip(arr, pos, special_val=None):\n",
        "    mask = arr.copy()\n",
        "    if special_val is None:\n",
        "      mask[pos] = 1 - mask[pos]\n",
        "    else:\n",
        "      mask[pos] = special_val\n",
        "    return mask"
      ],
      "execution_count": null,
      "outputs": []
    },
    {
      "cell_type": "markdown",
      "metadata": {
        "id": "KcsDKGtq-NEK"
      },
      "source": [
        "This is the heart of the solution.\n",
        "Bob, the second player cannot touch the board, he can only look. Therefor we need a function that converts a board state to an index of a coin.\n",
        "\n",
        "\n",
        "\n",
        "*   Function input: N^2 binary vector\n",
        "*   Function output: an integer in range [0..63] which represent the devil's favorite coin\n",
        "\n"
      ]
    },
    {
      "cell_type": "markdown",
      "metadata": {
        "id": "JQ1s-zpO_SQh"
      },
      "source": [
        "Any board can be converted into 64 different boards using a single flip. \n",
        "We need to make sure that each of them represent a different number - without repetitions. \n",
        "\n",
        "An example of such function is Hamming's code correction. \n",
        "We need to get N values [n1..nN]\n",
        "\n",
        "\n",
        "---\n",
        "\n",
        "\n",
        "*   n1 = vec[0] xor vec[2] xor vec[4] ...      (we take one, we skip one)\n",
        "*   n2 = vec[1] xor vec[2] xor vec[5],xor vec[6]  ...      (we take 2, we skip 2)\n",
        "*   ....\n",
        "*   nN = (we take N, we skip N)\n",
        "\n",
        "We get a binary array, when we convert it back into an int we get a number between 0.. (N-1). \n",
        "\n",
        "For deeper dive google \"Hamming Error Correction\" \n",
        "---\n",
        "\n",
        "Each board state can be converted to 64 unique new board, each one is assosiated using this function to a different number in range [0..63]."
      ]
    },
    {
      "cell_type": "code",
      "metadata": {
        "id": "abHz4oYYv2x-"
      },
      "source": [
        "# Convert an int into a binary array which represent that number\n",
        "# MSB first\n",
        "def _int2arr(num):\n",
        "    bytes = int(np.ceil(SQUARES / 8.0))\n",
        "    num_arr = np.arange(num, num + 1, dtype='>i%d' % bytes)\n",
        "    res = np.unpackbits(num_arr.view(np.uint8))[-1 * SQUARES:]\n",
        "    res_flipped = res[::-1]\n",
        "    return res_flipped\n",
        "\n",
        "# Convert a binary array which represent a number to an int\n",
        "def _arr2int(arr):\n",
        "    return arr.dot(1 << np.arange(arr.size)[::-1])\n",
        "\n",
        "# Take a chess board and return the number in which the devil's coin is placed\n",
        "def arr2coin(arr):\n",
        "    err_bits = int(np.floor(np.log2(arr.shape[0])))\n",
        "    res_arr = np.zeros(err_bits, dtype=int)\n",
        "    for idx in range(err_bits):\n",
        "        idxes_to_check = [t for t in range(SQUARES) if _int2arr(t)[idx] == 1]\n",
        "        for t_idx in idxes_to_check:\n",
        "            res_arr[idx] ^= arr[t_idx]\n",
        "\n",
        "    return _arr2int(res_arr)"
      ],
      "execution_count": null,
      "outputs": []
    },
    {
      "cell_type": "markdown",
      "metadata": {
        "id": "x2x9yf3WBnVJ"
      },
      "source": [
        "Now for the actual game. \n",
        "Alice enters the room. \n",
        "\n",
        "She flips Each coin and checks the \"value\" of the new candidate board. \n",
        "\n",
        "\n",
        "1.   Flip a coin\n",
        "2.   Check value of board using arr2coin\n",
        "3.   If the value matches the devil's coin - stop\n",
        "4.   If it does not, revert back to original board, and try the next coin.\n",
        "\n",
        "The right value is guranteed to be there since there are only 64 options and no result can repeat.\n",
        "\n"
      ]
    },
    {
      "cell_type": "code",
      "metadata": {
        "id": "L8SbZtvOw0Z2",
        "outputId": "9e4e9a04-7d85-42e9-f478-a718d59e20f1",
        "colab": {
          "base_uri": "https://localhost:8080/",
          "height": 1000
        }
      },
      "source": [
        "# Original board as 1D vector\n",
        "arr = board2vec(board)\n",
        "\n",
        "devils_coin_to_coin_to_flip = dict()\n",
        "for coin_to_flip in range(SQUARES):\n",
        "    flipped_arr = flip(arr, coin_to_flip)\n",
        "    calc_results = arr2coin(flipped_arr)\n",
        "    devils_coin_to_coin_to_flip[calc_results] = coin_to_flip\n",
        "\n",
        "\n",
        "already_used = list()\n",
        "for possible_coin in range(SQUARES):\n",
        "    coin_to_flip = devils_coin_to_coin_to_flip.get(possible_coin, '<< MISSING >> ')\n",
        "    print(f\"If the devil chose coin {possible_coin} you should flip coin {coin_to_flip}\")"
      ],
      "execution_count": null,
      "outputs": [
        {
          "output_type": "stream",
          "text": [
            "If the devil chose coin 0 you should flip coin 40\n",
            "If the devil chose coin 1 you should flip coin 8\n",
            "If the devil chose coin 2 you should flip coin 56\n",
            "If the devil chose coin 3 you should flip coin 24\n",
            "If the devil chose coin 4 you should flip coin 32\n",
            "If the devil chose coin 5 you should flip coin 0\n",
            "If the devil chose coin 6 you should flip coin 48\n",
            "If the devil chose coin 7 you should flip coin 16\n",
            "If the devil chose coin 8 you should flip coin 44\n",
            "If the devil chose coin 9 you should flip coin 12\n",
            "If the devil chose coin 10 you should flip coin 60\n",
            "If the devil chose coin 11 you should flip coin 28\n",
            "If the devil chose coin 12 you should flip coin 36\n",
            "If the devil chose coin 13 you should flip coin 4\n",
            "If the devil chose coin 14 you should flip coin 52\n",
            "If the devil chose coin 15 you should flip coin 20\n",
            "If the devil chose coin 16 you should flip coin 42\n",
            "If the devil chose coin 17 you should flip coin 10\n",
            "If the devil chose coin 18 you should flip coin 58\n",
            "If the devil chose coin 19 you should flip coin 26\n",
            "If the devil chose coin 20 you should flip coin 34\n",
            "If the devil chose coin 21 you should flip coin 2\n",
            "If the devil chose coin 22 you should flip coin 50\n",
            "If the devil chose coin 23 you should flip coin 18\n",
            "If the devil chose coin 24 you should flip coin 46\n",
            "If the devil chose coin 25 you should flip coin 14\n",
            "If the devil chose coin 26 you should flip coin 62\n",
            "If the devil chose coin 27 you should flip coin 30\n",
            "If the devil chose coin 28 you should flip coin 38\n",
            "If the devil chose coin 29 you should flip coin 6\n",
            "If the devil chose coin 30 you should flip coin 54\n",
            "If the devil chose coin 31 you should flip coin 22\n",
            "If the devil chose coin 32 you should flip coin 41\n",
            "If the devil chose coin 33 you should flip coin 9\n",
            "If the devil chose coin 34 you should flip coin 57\n",
            "If the devil chose coin 35 you should flip coin 25\n",
            "If the devil chose coin 36 you should flip coin 33\n",
            "If the devil chose coin 37 you should flip coin 1\n",
            "If the devil chose coin 38 you should flip coin 49\n",
            "If the devil chose coin 39 you should flip coin 17\n",
            "If the devil chose coin 40 you should flip coin 45\n",
            "If the devil chose coin 41 you should flip coin 13\n",
            "If the devil chose coin 42 you should flip coin 61\n",
            "If the devil chose coin 43 you should flip coin 29\n",
            "If the devil chose coin 44 you should flip coin 37\n",
            "If the devil chose coin 45 you should flip coin 5\n",
            "If the devil chose coin 46 you should flip coin 53\n",
            "If the devil chose coin 47 you should flip coin 21\n",
            "If the devil chose coin 48 you should flip coin 43\n",
            "If the devil chose coin 49 you should flip coin 11\n",
            "If the devil chose coin 50 you should flip coin 59\n",
            "If the devil chose coin 51 you should flip coin 27\n",
            "If the devil chose coin 52 you should flip coin 35\n",
            "If the devil chose coin 53 you should flip coin 3\n",
            "If the devil chose coin 54 you should flip coin 51\n",
            "If the devil chose coin 55 you should flip coin 19\n",
            "If the devil chose coin 56 you should flip coin 47\n",
            "If the devil chose coin 57 you should flip coin 15\n",
            "If the devil chose coin 58 you should flip coin 63\n",
            "If the devil chose coin 59 you should flip coin 31\n",
            "If the devil chose coin 60 you should flip coin 39\n",
            "If the devil chose coin 61 you should flip coin 7\n",
            "If the devil chose coin 62 you should flip coin 55\n",
            "If the devil chose coin 63 you should flip coin 23\n"
          ],
          "name": "stdout"
        }
      ]
    },
    {
      "cell_type": "markdown",
      "metadata": {
        "id": "4BqnycjUC9Yq"
      },
      "source": [
        "The devil is selecting a coin. \n",
        "Alice flips the matching coin from the board."
      ]
    },
    {
      "cell_type": "code",
      "metadata": {
        "id": "MLKyJsfGxJNl",
        "outputId": "34f4adae-42ab-47f7-e1a7-79cb7a9412ea",
        "colab": {
          "base_uri": "https://localhost:8080/",
          "height": 50
        }
      },
      "source": [
        "devils_coin = np.random.choice(range(SQUARES))\n",
        "print(f\"If the devil chose coin {devils_coin}\")\n",
        "coin_to_flip = devils_coin_to_coin_to_flip[devils_coin]\n",
        "print(f\"Coin to flip: {coin_to_flip} [{coin2pos(coin_to_flip)}]\")\n",
        "\n",
        "new_board_colored = vec2board(flip(arr, coin_to_flip,special_val=2))\n",
        "flipped_arr = flip(arr, coin_to_flip)\n",
        "new_board = vec2board(flipped_arr)"
      ],
      "execution_count": null,
      "outputs": [
        {
          "output_type": "stream",
          "text": [
            "If the devil chose coin 18\n",
            "Coin to flip: 58 [(2, 7)]\n"
          ],
          "name": "stdout"
        }
      ]
    },
    {
      "cell_type": "markdown",
      "metadata": {
        "id": "kFHLpcJKDJOf"
      },
      "source": [
        "Alice can now leave the room. \n",
        "When bob enters he just needs to convert the board to a value using the pre-determined function arr2coin alice used as well to know the Devil's coin."
      ]
    },
    {
      "cell_type": "code",
      "metadata": {
        "id": "lZ0cwMwzzI1T",
        "outputId": "b21b51c7-d99e-44aa-8787-96fa1551ff45",
        "colab": {
          "base_uri": "https://localhost:8080/",
          "height": 811
        }
      },
      "source": [
        "print(f\"Original board (Current devil's coin: {arr2coin(arr)})\")\n",
        "showboard(board)\n",
        "print(\"Coin to flip\")\n",
        "showboard(new_board_colored)\n",
        "print(f\"New board  (Current devil's coin: {arr2coin(flipped_arr)})\")\n",
        "showboard(new_board)"
      ],
      "execution_count": null,
      "outputs": [
        {
          "output_type": "stream",
          "text": [
            "Original board (Current devil's coin: 5)\n"
          ],
          "name": "stdout"
        },
        {
          "output_type": "display_data",
          "data": {
            "image/png": "[encoded data removed]",
            "text/plain": [
              "<Figure size 432x288 with 1 Axes>"
            ]
          },
          "metadata": {
            "tags": [],
            "needs_background": "light"
          }
        },
        {
          "output_type": "stream",
          "text": [
            "Coin to flip\n"
          ],
          "name": "stdout"
        },
        {
          "output_type": "display_data",
          "data": {
            "image/png": "[encoded data removed]",
            "text/plain": [
              "<Figure size 432x288 with 1 Axes>"
            ]
          },
          "metadata": {
            "tags": [],
            "needs_background": "light"
          }
        },
        {
          "output_type": "stream",
          "text": [
            "New board  (Current devil's coin: 18)\n"
          ],
          "name": "stdout"
        },
        {
          "output_type": "display_data",
          "data": {
            "image/png": "[encoded data removed]",
            "text/plain": [
              "<Figure size 432x288 with 1 Axes>"
            ]
          },
          "metadata": {
            "tags": [],
            "needs_background": "light"
          }
        }
      ]
    }
  ]
}