{
  "nbformat": 4,
  "nbformat_minor": 0,
  "metadata": {
    "colab": {
      "name": "most light from a led clock.ipynb",
      "provenance": [],
      "authorship_tag": "ABX9TyPQpEfYepoZPme+Yx02U3IR",
      "include_colab_link": true
    },
    "kernelspec": {
      "name": "python3",
      "display_name": "Python 3"
    }
  },
  "cells": [
    {
      "cell_type": "markdown",
      "metadata": {
        "id": "view-in-github",
        "colab_type": "text"
      },
      "source": [
        "<a href=\"https://colab.research.google.com/github/GuysBarash/Riddles/blob/master/most_light_from_a_led_clock/most_light_from_a_led_clock.ipynb\" target=\"_parent\"><img src=\"https://colab.research.google.com/assets/colab-badge.svg\" alt=\"Open In Colab\"/></a>"
      ]
    },
    {
      "cell_type": "markdown",
      "metadata": {
        "id": "0c7pL_PGqw7w",
        "colab_type": "text"
      },
      "source": [
        "# Question"
      ]
    },
    {
      "cell_type": "markdown",
      "metadata": {
        "id": "I71-m3IMqGdD",
        "colab_type": "text"
      },
      "source": [
        "You are in a totally dark room. The only light in the room comes from an old LED digital alarm clock (with four seven segment displays). The clock display is HH:MM (no seconds). The clock is configured to display time in 24 hour format and the leading digit is blank if not used. What is the period of time between when the room is at its darkest, to when it is at its lightest?"
      ]
    },
    {
      "cell_type": "markdown",
      "metadata": {
        "id": "oc2foBXx2ma_",
        "colab_type": "text"
      },
      "source": [
        "# Help code"
      ]
    },
    {
      "cell_type": "code",
      "metadata": {
        "id": "4BTVrYdRuab2",
        "colab_type": "code",
        "colab": {}
      },
      "source": [
        "from copy import copy"
      ],
      "execution_count": null,
      "outputs": []
    },
    {
      "cell_type": "code",
      "metadata": {
        "id": "lZb1e-jUqECz",
        "colab_type": "code",
        "colab": {}
      },
      "source": [
        "lights = dict()\n",
        "lights[-1] = 0\n",
        "lights[0] = 6\n",
        "lights[1] = 2\n",
        "lights[2] = 5\n",
        "lights[3] = 5\n",
        "lights[4] = 4\n",
        "lights[5] = 5\n",
        "lights[6] = 6\n",
        "lights[7] = 3\n",
        "lights[8] = 7\n",
        "lights[9] = 6"
      ],
      "execution_count": null,
      "outputs": []
    },
    {
      "cell_type": "code",
      "metadata": {
        "id": "H__tcaSqq4WF",
        "colab_type": "code",
        "colab": {}
      },
      "source": [
        "def get_next_hour(h1,h2,m1,m2):\n",
        "  l = [h1,h2,m1,m2]\n",
        "  if m2 < 0:\n",
        "    return [0,0,0,0]\n",
        "  elif l == [2,3,5,9]:\n",
        "    return None\n",
        "  else:\n",
        "    l[3] += 1\n",
        "    if l[3] > 9:\n",
        "      l[3] = 0\n",
        "      l[2] += 1\n",
        "    if l[2] > 5:\n",
        "      l[2] = 0\n",
        "      l[1] += 1\n",
        "    \n",
        "    if l[1] > 9:\n",
        "      l[1] = 0\n",
        "      l[0] += 1\n",
        "  return l     "
      ],
      "execution_count": null,
      "outputs": []
    },
    {
      "cell_type": "code",
      "metadata": {
        "id": "2T_SNoSWtbin",
        "colab_type": "code",
        "colab": {}
      },
      "source": [
        "def clear_leading(input_num,usage=True):\n",
        "  num = copy(input_num)\n",
        "  if not usage:\n",
        "    return num\n",
        "\n",
        "  if num[0] == 0:\n",
        "    num[0] = -1\n",
        "    if num[1] == 0:\n",
        "      num[1] = -1\n",
        "      if num[2] == 0:\n",
        "        num[2] = -1\n",
        "        if num[3] == 0:\n",
        "          num[3] = -1\n",
        "  return num\n",
        "\n",
        "def to_string(num):\n",
        "  s = f'{num[0]}{num[1]}:{num[2]}{num[3]}'\n",
        "  return s\n",
        "\n",
        "def lighs_sum(num, lights):\n",
        "  s = 0\n",
        "  for t in num:\n",
        "    v = lights[t]\n",
        "    s += v\n",
        "  return s"
      ],
      "execution_count": null,
      "outputs": []
    },
    {
      "cell_type": "markdown",
      "metadata": {
        "id": "SwylM0eNq0QH",
        "colab_type": "text"
      },
      "source": [
        "# Answer"
      ]
    },
    {
      "cell_type": "markdown",
      "metadata": {
        "id": "0LengUV02cEO",
        "colab_type": "text"
      },
      "source": [
        "Version A. Regular clock"
      ]
    },
    {
      "cell_type": "code",
      "metadata": {
        "id": "GIQoCzaos44x",
        "colab_type": "code",
        "colab": {}
      },
      "source": [
        "num = get_next_hour(-1,-1,-1,-1)\n",
        "current_num = 1\n",
        "values = dict()\n",
        "while True:\n",
        "  s = to_string(num)\n",
        "  cleared = clear_leading(num,usage=False)\n",
        "  lsum = lighs_sum(cleared,lights)\n",
        "  values[s] = lsum\n",
        "  # print(f\"[{current_num:>3}]>> {s} >> {cleared} >> {lsum}\")\n",
        "  current_num += 1\n",
        "  num = get_next_hour(*num)\n",
        "  if num is None:\n",
        "    break"
      ],
      "execution_count": null,
      "outputs": []
    },
    {
      "cell_type": "code",
      "metadata": {
        "id": "2z9-fnHqvmO1",
        "colab_type": "code",
        "colab": {
          "base_uri": "https://localhost:8080/",
          "height": 656
        },
        "outputId": "8d5e5c7e-abb3-4373-a719-df349b23963d"
      },
      "source": [
        "top_n = 15\n",
        "k = max(values, key=values.get)\n",
        "v = values[k]\n",
        "print(f\"Most light is at {k} with {v} lights on.\")\n",
        "print(\"Top runners:\")\n",
        "runners = sorted(values.items(), key=lambda x: x[1], reverse=True)[:top_n]\n",
        "for idx, k in enumerate(runners):\n",
        "  print(f\"[{idx + 1}]\\t{k[0]} >> {k[1]}\")\n",
        "print(\"\\n\")\n",
        "\n",
        "\n",
        "k = min(values, key=values.get)\n",
        "v = values[k]\n",
        "print(f\"Most Dark is at {k} with {v} lights on.\")\n",
        "print(\"Top runners:\")\n",
        "runners = sorted(values.items(), key=lambda x: x[1], reverse=False)[:top_n]\n",
        "for idx, k in enumerate(runners):\n",
        "  print(f\"[{idx + 1}]\\t{k[0]} >> {k[1]}\")"
      ],
      "execution_count": null,
      "outputs": [
        {
          "output_type": "stream",
          "text": [
            "Most light is at 08:08 with 26 lights on.\n",
            "Top runners:\n",
            "[1]\t08:08 >> 26\n",
            "[2]\t00:08 >> 25\n",
            "[3]\t06:08 >> 25\n",
            "[4]\t08:00 >> 25\n",
            "[5]\t08:06 >> 25\n",
            "[6]\t08:09 >> 25\n",
            "[7]\t08:28 >> 25\n",
            "[8]\t08:38 >> 25\n",
            "[9]\t08:58 >> 25\n",
            "[10]\t09:08 >> 25\n",
            "[11]\t00:00 >> 24\n",
            "[12]\t00:06 >> 24\n",
            "[13]\t00:09 >> 24\n",
            "[14]\t00:28 >> 24\n",
            "[15]\t00:38 >> 24\n",
            "\n",
            "\n",
            "Most Dark is at 11:11 with 8 lights on.\n",
            "Top runners:\n",
            "[1]\t11:11 >> 8\n",
            "[2]\t11:17 >> 9\n",
            "[3]\t17:11 >> 9\n",
            "[4]\t11:14 >> 10\n",
            "[5]\t11:41 >> 10\n",
            "[6]\t14:11 >> 10\n",
            "[7]\t17:17 >> 10\n",
            "[8]\t11:12 >> 11\n",
            "[9]\t11:13 >> 11\n",
            "[10]\t11:15 >> 11\n",
            "[11]\t11:21 >> 11\n",
            "[12]\t11:31 >> 11\n",
            "[13]\t11:47 >> 11\n",
            "[14]\t11:51 >> 11\n",
            "[15]\t12:11 >> 11\n"
          ],
          "name": "stdout"
        }
      ]
    },
    {
      "cell_type": "markdown",
      "metadata": {
        "id": "jSPZbiNv2sGc",
        "colab_type": "text"
      },
      "source": [
        "Version B. leading zeros are not lit"
      ]
    },
    {
      "cell_type": "code",
      "metadata": {
        "id": "o_N30ZTN2x7-",
        "colab_type": "code",
        "colab": {}
      },
      "source": [
        "num = get_next_hour(-1,-1,-1,-1)\n",
        "max_light = lights[8] * 4\n",
        "current_num = 1\n",
        "values = dict()\n",
        "while True:\n",
        "  s = to_string(num)\n",
        "  cleared = clear_leading(num,usage=True)\n",
        "  lsum = lighs_sum(cleared,lights)\n",
        "  values[s] = lsum\n",
        "  # print(f\"[{current_num:>3}]>> {s} >> {cleared} >> {lsum}\")\n",
        "  current_num += 1\n",
        "  num = get_next_hour(*num)\n",
        "  if num is None:\n",
        "    break"
      ],
      "execution_count": null,
      "outputs": []
    },
    {
      "cell_type": "code",
      "metadata": {
        "id": "QpX4YPxr22jN",
        "colab_type": "code",
        "colab": {
          "base_uri": "https://localhost:8080/",
          "height": 656
        },
        "outputId": "b253621d-6a11-4f67-f4a8-38d1e9eb4ea4"
      },
      "source": [
        "top_n = 15\n",
        "k = max(values, key=values.get)\n",
        "v = values[k]\n",
        "print(f\"Most light is at {k} with {v} lights on.\")\n",
        "print(\"Top runners:\")\n",
        "runners = sorted(values.items(), key=lambda x: x[1], reverse=True)[:top_n]\n",
        "for idx, k in enumerate(runners):\n",
        "  print(f\"[{idx + 1}]\\t{k[0]} >> {k[1]}\")\n",
        "print(\"\\n\")\n",
        "\n",
        "\n",
        "k = min(values, key=values.get)\n",
        "v = values[k]\n",
        "print(f\"Most Dark is at {k} with {v} lights on.\")\n",
        "print(\"Top runners:\")\n",
        "runners = sorted(values.items(), key=lambda x: x[1], reverse=False)[:top_n]\n",
        "for idx, k in enumerate(runners):\n",
        "  print(f\"[{idx + 1}]\\t{k[0]} >> {k[1]}\")"
      ],
      "execution_count": null,
      "outputs": [
        {
          "output_type": "stream",
          "text": [
            "Most light is at 20:08 with 24 lights on.\n",
            "Top runners:\n",
            "[1]\t20:08 >> 24\n",
            "[2]\t20:00 >> 23\n",
            "[3]\t20:06 >> 23\n",
            "[4]\t20:09 >> 23\n",
            "[5]\t20:28 >> 23\n",
            "[6]\t20:38 >> 23\n",
            "[7]\t20:58 >> 23\n",
            "[8]\t22:08 >> 23\n",
            "[9]\t23:08 >> 23\n",
            "[10]\t18:08 >> 22\n",
            "[11]\t20:02 >> 22\n",
            "[12]\t20:03 >> 22\n",
            "[13]\t20:05 >> 22\n",
            "[14]\t20:20 >> 22\n",
            "[15]\t20:26 >> 22\n",
            "\n",
            "\n",
            "Most Dark is at 00:00 with 0 lights on.\n",
            "Top runners:\n",
            "[1]\t00:00 >> 0\n",
            "[2]\t00:01 >> 2\n",
            "[3]\t00:07 >> 3\n",
            "[4]\t00:04 >> 4\n",
            "[5]\t00:11 >> 4\n",
            "[6]\t00:02 >> 5\n",
            "[7]\t00:03 >> 5\n",
            "[8]\t00:05 >> 5\n",
            "[9]\t00:17 >> 5\n",
            "[10]\t00:06 >> 6\n",
            "[11]\t00:09 >> 6\n",
            "[12]\t00:14 >> 6\n",
            "[13]\t00:41 >> 6\n",
            "[14]\t01:11 >> 6\n",
            "[15]\t00:08 >> 7\n"
          ],
          "name": "stdout"
        }
      ]
    }
  ]
}