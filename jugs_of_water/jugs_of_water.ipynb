{
  "nbformat": 4,
  "nbformat_minor": 0,
  "metadata": {
    "colab": {
      "name": "jugs of water.ipynb",
      "provenance": [],
      "authorship_tag": "ABX9TyP50S2qXhO9LnR//hf0QbWg",
      "include_colab_link": true
    },
    "kernelspec": {
      "name": "python3",
      "display_name": "Python 3"
    },
    "language_info": {
      "name": "python"
    }
  },
  "cells": [
    {
      "cell_type": "markdown",
      "metadata": {
        "id": "view-in-github",
        "colab_type": "text"
      },
      "source": [
        "<a href=\"https://colab.research.google.com/github/GuysBarash/Riddles/blob/master/jugs_of_water/jugs_of_water.ipynb\" target=\"_parent\"><img src=\"https://colab.research.google.com/assets/colab-badge.svg\" alt=\"Open In Colab\"/></a>"
      ]
    },
    {
      "cell_type": "code",
      "metadata": {
        "id": "_CrneizCTdVw"
      },
      "source": [
        "import itertools\n",
        "from copy import copy\n",
        "import networkx as nx\n",
        "import matplotlib.pyplot as plt"
      ],
      "execution_count": 23,
      "outputs": []
    },
    {
      "cell_type": "markdown",
      "metadata": {
        "id": "VELx9ufcTfID"
      },
      "source": [
        "# Parameters"
      ]
    },
    {
      "cell_type": "markdown",
      "metadata": {
        "id": "7a1pN9arTrXM"
      },
      "source": [
        "Max capacity of each jar"
      ]
    },
    {
      "cell_type": "code",
      "metadata": {
        "id": "edIq9cGgTj-b"
      },
      "source": [
        "capacities = [10, 5, 6]"
      ],
      "execution_count": 24,
      "outputs": []
    },
    {
      "cell_type": "markdown",
      "metadata": {
        "id": "pho9xu0GT12c"
      },
      "source": [
        "Starting state"
      ]
    },
    {
      "cell_type": "code",
      "metadata": {
        "id": "WgrhwkltTmnU"
      },
      "source": [
        "water_state = [0, 5, 6]"
      ],
      "execution_count": 25,
      "outputs": []
    },
    {
      "cell_type": "markdown",
      "metadata": {
        "id": "EjGt0QynT5L-"
      },
      "source": [
        "Win condition"
      ]
    },
    {
      "cell_type": "code",
      "metadata": {
        "id": "Jt-M_JznT6cG"
      },
      "source": [
        "winning_state = [8, -1, -1]  # -1 is \"don't care\""
      ],
      "execution_count": 26,
      "outputs": []
    },
    {
      "cell_type": "markdown",
      "metadata": {
        "id": "D2v1JkpNT9oO"
      },
      "source": [
        "# Code"
      ]
    },
    {
      "cell_type": "markdown",
      "metadata": {
        "id": "84TqDOqkUTow"
      },
      "source": [
        "Define classes"
      ]
    },
    {
      "cell_type": "code",
      "metadata": {
        "id": "-yhYXABhT_t-"
      },
      "source": [
        "class State:\n",
        "  @staticmethod\n",
        "  def _list_to_sig(l):\n",
        "      return '_'.join([str(int(t)) for t in l])\n",
        "\n",
        "  @staticmethod\n",
        "  def _sig_to_list(sig):\n",
        "      return [int(t) for t in sig.split('_')]\n",
        "\n",
        "  def __init__(self, water_state=None, sig=None):\n",
        "      if water_state is not None:\n",
        "          sig = State._list_to_sig(water_state)\n",
        "      elif sig is not None:\n",
        "          water_state = State._sig_to_list(sig)\n",
        "      else:\n",
        "          raise Exception('Cannot initialize state without water_state or sig')\n",
        "\n",
        "      self.sig = sig\n",
        "      self.water_state = water_state\n",
        "\n",
        "  def get(self):\n",
        "      return self.water_state\n",
        "\n",
        "  def get_sig(self):\n",
        "      return self.sig\n",
        "\n",
        "  def __str__(self):\n",
        "      return self.get_sig()"
      ],
      "execution_count": 27,
      "outputs": []
    },
    {
      "cell_type": "code",
      "metadata": {
        "id": "wInU9B3yUIPi"
      },
      "source": [
        "class Board:\n",
        "  def __init__(self, capacities, winning_state):\n",
        "      self.capacities = capacities\n",
        "      self.winning_state = winning_state\n",
        "      self.board_size = len(self.capacities)\n",
        "\n",
        "      ls = range(self.board_size)\n",
        "      self.moves_list = [t for t in (itertools.product(ls, ls)) if t[0] != t[1]]\n",
        "\n",
        "  def is_legal_state(self, state):\n",
        "      state_l = state.get()\n",
        "      if len(state_l) != len(self.capacities):\n",
        "          raise Exception(\n",
        "              f\"Bad state length. State is {len(state_l)} long. while capacities are {len(self.capacities)} long.\")\n",
        "      is_legal_list = [state_l[i] <= self.capacities[i] for i in range(len(state_l))]\n",
        "      return all(is_legal_list)\n",
        "\n",
        "  def is_winning_state(self, state):\n",
        "      state_l = state.get()\n",
        "\n",
        "      winning = [False] * len(state_l)\n",
        "      for i in range(len(state_l)):\n",
        "          is_dc = self.winning_state[i] == -1\n",
        "          is_hit = self.winning_state[i] == state_l[i]\n",
        "          winning[i] = is_dc or is_hit\n",
        "      return all(winning)\n",
        "\n",
        "  def apply(self, state, action):\n",
        "      state_l = copy(state.get())\n",
        "\n",
        "      from_jar = action[0]\n",
        "      to_jar = action[1]\n",
        "\n",
        "      amount_to_move = self.capacities[to_jar] - state_l[to_jar]\n",
        "      amount_to_move = min(amount_to_move, state_l[from_jar])\n",
        "\n",
        "      state_l[from_jar] -= amount_to_move\n",
        "      state_l[to_jar] += amount_to_move\n",
        "\n",
        "      n_state = State(water_state=state_l)\n",
        "      if self.is_legal_state(n_state):\n",
        "          return n_state\n",
        "      else:\n",
        "          return None\n",
        "\n",
        "  def get_next_states(self, state):\n",
        "      state_l = state.get()\n",
        "      ret = [self.apply(state, action) for action in self.moves_list]\n",
        "      ret = [s for s in ret if s is not None]\n",
        "      return ret"
      ],
      "execution_count": 28,
      "outputs": []
    },
    {
      "cell_type": "code",
      "metadata": {
        "id": "BpDjnwAvUMyg"
      },
      "source": [
        "def bfs(board, start_state):\n",
        "  G = nx.DiGraph(directed=True)\n",
        "  visited = dict()\n",
        "  wins = list()\n",
        "\n",
        "  q = list()\n",
        "  q.append(start_state.get_sig())\n",
        "  visited[start_state.get_sig()] = True\n",
        "  while q:\n",
        "      s = q.pop(0)\n",
        "      s_state = State(sig=s)\n",
        "      adjacent = board.get_next_states(s_state)\n",
        "\n",
        "      if board.is_winning_state(s_state):\n",
        "          wins.append(s_state.get_sig())\n",
        "\n",
        "      for st in adjacent:\n",
        "          st_sig = st.get_sig()\n",
        "          G.add_edge(s_state.get_sig(), st_sig)\n",
        "          if not visited.get(st_sig, False):\n",
        "              q.append(st_sig)\n",
        "              visited[st_sig] = True\n",
        "  return wins, G"
      ],
      "execution_count": 29,
      "outputs": []
    },
    {
      "cell_type": "markdown",
      "metadata": {
        "id": "rPIX8Xj9USlA"
      },
      "source": [
        "Run code"
      ]
    },
    {
      "cell_type": "code",
      "metadata": {
        "id": "o_n_OFKdUVgg"
      },
      "source": [
        "board = Board(capacities, winning_state=winning_state)\n",
        "cstate = State(water_state=water_state)"
      ],
      "execution_count": 30,
      "outputs": []
    },
    {
      "cell_type": "code",
      "metadata": {
        "id": "_rg2NYvxUdyL"
      },
      "source": [
        "win_states, G = bfs(board, cstate)"
      ],
      "execution_count": 31,
      "outputs": []
    },
    {
      "cell_type": "markdown",
      "metadata": {
        "id": "3hcwx44cUrZK"
      },
      "source": [
        "# Results"
      ]
    },
    {
      "cell_type": "code",
      "metadata": {
        "colab": {
          "base_uri": "https://localhost:8080/"
        },
        "id": "iD1WZ7lwUbND",
        "outputId": "2393c011-4148-47e3-ecda-4e49c7d7c1cd"
      },
      "source": [
        "reachables = list(G.nodes())\n",
        "amounts = list()\n",
        "for s in reachables:\n",
        "    for n in [int(t) for t in s.split(\"_\")]:\n",
        "        amounts.append(str(n))\n",
        "amounts = sorted(list(set(amounts)))\n",
        "print(f\"Total of {len(reachables)} reachable states.\")\n",
        "print(f\"It is possible to measure these amounts: [{', '.join(amounts)}]\")"
      ],
      "execution_count": 32,
      "outputs": [
        {
          "output_type": "stream",
          "text": [
            "Total of 21 reachable states.\n",
            "It is possible to measure these amounts: [0, 1, 10, 2, 3, 4, 5, 6, 7, 8, 9]\n"
          ],
          "name": "stdout"
        }
      ]
    },
    {
      "cell_type": "code",
      "metadata": {
        "colab": {
          "base_uri": "https://localhost:8080/"
        },
        "id": "PwkFN3W6Ukzi",
        "outputId": "8b3a2f24-f294-4c4f-d6fd-1ad99d27e338"
      },
      "source": [
        "print(f\"Winning paths: ({len(win_states)} paths found)\")\n",
        "for idx, win_state in enumerate(win_states):\n",
        "    short_path = nx.shortest_path(G, str(cstate), str(win_state))\n",
        "    msg = '[' + '] --> ['.join(short_path) + ']'\n",
        "    msg = f'({idx:>3})\\t' + msg + f'\\t\\t Steps: {len(short_path)}'\n",
        "    print(msg)"
      ],
      "execution_count": 33,
      "outputs": [
        {
          "output_type": "stream",
          "text": [
            "Winning paths: (2 paths found)\n",
            "(  0)\t[0_5_6] --> [6_5_0] --> [10_1_0] --> [4_1_6] --> [4_5_2] --> [9_0_2] --> [9_2_0] --> [3_2_6] --> [3_5_3] --> [8_0_3]\t\t Steps: 10\n",
            "(  1)\t[0_5_6] --> [6_5_0] --> [6_0_5] --> [1_5_5] --> [1_4_6] --> [7_4_0] --> [7_0_4] --> [2_5_4] --> [2_3_6] --> [8_3_0]\t\t Steps: 10\n"
          ],
          "name": "stdout"
        }
      ]
    }
  ]
}